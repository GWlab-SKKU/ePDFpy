{
 "cells": [
  {
   "cell_type": "code",
   "execution_count": 12,
   "metadata": {},
   "outputs": [
    {
     "name": "stderr",
     "output_type": "stream",
     "text": [
      "UsageError: Line magic function `%matplotliblib` not found.\n"
     ]
    }
   ],
   "source": [
    "import glob\n",
    "# glob.glob(\"/mnt/experiment/TEM diffraction/\")\n",
    "from pathlib import Path\n",
    "import pandas as pd\n",
    "import numpy as np\n",
    "import matplotlib.pyplot as plt\n",
    "import file\n",
    "import os\n",
    "from calculate.rdf_calculator import calculation_with_q\n",
    "import matplotlib\n",
    "matplotlib.rcParams['figure.figsize'] = [10,10]\n",
    "%matplotliblib qt "
   ]
  },
  {
   "cell_type": "code",
   "execution_count": 13,
   "metadata": {
    "pycharm": {
     "name": "#%%\n"
    }
   },
   "outputs": [],
   "source": [
    "csvfiles = Path(\"/mnt/experiment/TEM diffraction/\").rglob(\"*.csv\")"
   ]
  },
  {
   "cell_type": "code",
   "execution_count": 14,
   "metadata": {
    "pycharm": {
     "name": "#%%\n"
    }
   },
   "outputs": [],
   "source": [
    "fps = set()\n",
    "for file in csvfiles:\n",
    "    if file.name in [\"diagonal.csv\",\"diagonal_1.csv\",\"line.csv\"]:\n",
    "        continue\n",
    "    if \"r30\" in file.name:\n",
    "        continue\n",
    "    fp = str(file.absolute())\n",
    "    idx = fp.find('\\\\')\n",
    "    fps.add(fp[:idx])\n",
    "fps = list(fps)\n",
    "fps.sort()"
   ]
  },
  {
   "cell_type": "code",
   "execution_count": 15,
   "metadata": {
    "pycharm": {
     "name": "#%%\n"
    }
   },
   "outputs": [],
   "source": [
    "str_parameter = r\"\\Parameters.csv\"\n",
    "str_data_r = r\"\\Data_r.csv\"\n",
    "str_data_q = r\"\\Data_q.csv\""
   ]
  },
  {
   "cell_type": "code",
   "execution_count": 16,
   "metadata": {
    "pycharm": {
     "name": "#%%\n"
    }
   },
   "outputs": [
    {
     "name": "stdout",
     "output_type": "stream",
     "text": [
      "total data : 221\n"
     ]
    }
   ],
   "source": [
    "# test= np.genfromtxt(fps[0]+str_data_r,names=True,delimiter=',')\n",
    "print(\"total data : {}\".format(len(fps)))"
   ]
  },
  {
   "cell_type": "code",
   "execution_count": 28,
   "metadata": {
    "pycharm": {
     "name": "#%%\n"
    },
    "scrolled": true
   },
   "outputs": [
    {
     "name": "stdout",
     "output_type": "stream",
     "text": [
      "4 475.47464346208176\n",
      "4 463.76476823069356\n",
      "4 471.8321942012069\n",
      "4 455.7833743843084\n",
      "4 478.2274062622502\n"
     ]
    }
   ],
   "source": [
    "# for i in range(len(fps)):\n",
    "\n",
    "# if True:\n",
    "#     i=3\n",
    "\n",
    "for i in range(len(fps)):\n",
    "\n",
    "#     print(fps[i])\n",
    "    # I q\n",
    "    df = pd.read_csv(fps[i]+str_data_q)\n",
    "    q = df['q'].to_numpy()\n",
    "    I = df['I'].to_numpy()\n",
    "\n",
    "    # parameters\n",
    "    params = pd.read_csv(fps[i]+str_parameter)\n",
    "    ds = float(params['ds'][0])\n",
    "    qmax = float(params['qmax'][0])\n",
    "    N = float(params['N'][0])\n",
    "    damping = float(params['damping'][0])\n",
    "    elements  = [0]*5\n",
    "    elements_ratio = [0]*5\n",
    "    elements[0] = params['Factor'][1]\n",
    "    elements[1] = params['ds'][1]\n",
    "    elements[2] = params['qmax'][1]\n",
    "    elements[3] = params['N'][1]\n",
    "    elements[4] = params['damping'][1]\n",
    "    elements_ratio[0] = params['Factor'][2]\n",
    "    elements_ratio[1] = params['ds'][2]\n",
    "    elements_ratio[2] = params['qmax'][2]\n",
    "    elements_ratio[3] = params['N'][2]\n",
    "    elements_ratio[4] = params['damping'][2]\n",
    "\n",
    "    for idx, element in enumerate(elements):\n",
    "\n",
    "        if element == 'None':\n",
    "            elements[idx] = 0\n",
    "        else :\n",
    "            elements[idx] = int(str(element)[:str(element).find('.')])\n",
    "        elements_ratio[idx] = float(elements_ratio[idx])\n",
    "\n",
    "    q, r, Iq, Autofit, phiq, phiq_damp, Gr, SS, fit_at_q, N=\\\n",
    "        calculation_with_q(\n",
    "        ds = ds,\n",
    "        q = q,\n",
    "        Iq = I,\n",
    "        element_nums = elements,\n",
    "        ratio = elements_ratio,\n",
    "        is_full_q = True,\n",
    "        damping = damping,\n",
    "        rmax = 30,\n",
    "        dr = 0.01,\n",
    "        fit_at_q = qmax,\n",
    "        N = N\n",
    "    )\n",
    "\n",
    "    # data confirm\n",
    "    df = pd.read_csv(fps[i]+str_data_r)\n",
    "    error = np.sum((df['Gr'] - Gr[:1000]))\n",
    "#     print(\"index:{}, error:{}\".format(i, error))\n",
    "\n",
    "    new_df = pd.DataFrame({\n",
    "        'r':r,\n",
    "        'Gr':Gr\n",
    "    })\n",
    "#     fp = os.path.split(fps[i])\n",
    "#     new_df.to_csv(fp[0]+\"/new_\"+fp[1]+\"_r30_{}.csv\".format(datetime.datetime.today().strftime(\"%y%m%d\"))) # todo: add today's date\n",
    "    if error > 1:\n",
    "        print(idx, error)\n",
    "#     df = pd.read_csv(fps[i]+str_data_r)\n",
    "#     plt.plot(r,Gr, label=\"new calculated\")\n",
    "#     plt.plot(df['r'],df['Gr'], label=\"original\")\n",
    "#     plt.legend()\n",
    "#     plt.show()\n",
    "    \n",
    "    "
   ]
  },
  {
   "cell_type": "code",
   "execution_count": 11,
   "metadata": {
    "pycharm": {
     "name": "#%%\n"
    }
   },
   "outputs": [
    {
     "ename": "NameError",
     "evalue": "name 'q' is not defined",
     "output_type": "error",
     "traceback": [
      "\u001b[0;31m---------------------------------------------------------------------------\u001b[0m",
      "\u001b[0;31mNameError\u001b[0m                                 Traceback (most recent call last)",
      "\u001b[0;32m<ipython-input-11-df7e2b1672a0>\u001b[0m in \u001b[0;36m<module>\u001b[0;34m\u001b[0m\n\u001b[1;32m      4\u001b[0m     \u001b[0;32mreturn\u001b[0m \u001b[0marray\u001b[0m\u001b[0;34m[\u001b[0m\u001b[0midx\u001b[0m\u001b[0;34m]\u001b[0m\u001b[0;34m\u001b[0m\u001b[0m\n\u001b[1;32m      5\u001b[0m \u001b[0;34m\u001b[0m\u001b[0m\n\u001b[0;32m----> 6\u001b[0;31m \u001b[0msearch_q\u001b[0m \u001b[0;34m=\u001b[0m \u001b[0mq\u001b[0m\u001b[0;34m[\u001b[0m\u001b[0mq\u001b[0m \u001b[0;34m<=\u001b[0m \u001b[0mfit_at_q\u001b[0m\u001b[0;34m+\u001b[0m\u001b[0;36m0.03\u001b[0m\u001b[0;34m]\u001b[0m\u001b[0;34m\u001b[0m\u001b[0m\n\u001b[0m\u001b[1;32m      7\u001b[0m \u001b[0msearch_q\u001b[0m\u001b[0;34m[\u001b[0m\u001b[0;34m-\u001b[0m\u001b[0;36m1\u001b[0m\u001b[0;34m]\u001b[0m\u001b[0;34m\u001b[0m\u001b[0m\n",
      "\u001b[0;31mNameError\u001b[0m: name 'q' is not defined"
     ]
    }
   ],
   "source": [
    "def find_nearest(array, value):\n",
    "    array = np.asarray(array)\n",
    "    idx = (np.abs(array - value)).argmin()\n",
    "    return array[idx]\n",
    "\n",
    "search_q = q[q <= fit_at_q+0.03]\n",
    "search_q[-1]"
   ]
  },
  {
   "cell_type": "code",
   "execution_count": null,
   "metadata": {
    "pycharm": {
     "name": "#%%\n"
    }
   },
   "outputs": [],
   "source": [
    "search_q = find_nearest(q,fit_at_q+0.02)\n",
    "search_q"
   ]
  },
  {
   "cell_type": "code",
   "execution_count": 13,
   "metadata": {
    "pycharm": {
     "name": "#%%\n"
    }
   },
   "outputs": [
    {
     "name": "stdout",
     "output_type": "stream",
     "text": [
      "22.6797856847954\n",
      "22.68\n"
     ]
    }
   ],
   "source": [
    "print(fit_at_q)\n",
    "print(qmax)"
   ]
  },
  {
   "cell_type": "code",
   "execution_count": null,
   "metadata": {
    "pycharm": {
     "name": "#%% Data confirm\n"
    }
   },
   "outputs": [],
   "source": [
    "    df = pd.read_csv(fps[i]+str_data_r)\n",
    "    plt.plot(r,Gr, label=\"new calculated\")\n",
    "    plt.plot(df['r'],df['Gr'], label=\"original\")\n",
    "    plt.legend()\n",
    "    print(np.sum((df['Gr'] - Gr[:1000])))"
   ]
  },
  {
   "cell_type": "code",
   "execution_count": null,
   "metadata": {
    "pycharm": {
     "name": "#%%\n"
    }
   },
   "outputs": [],
   "source": [
    "os.path.abspath(os.path.join(fps[0],\"../..\"))"
   ]
  },
  {
   "cell_type": "code",
   "execution_count": null,
   "metadata": {
    "pycharm": {
     "name": "#%%\n"
    }
   },
   "outputs": [],
   "source": [
    "new_df = pd.DataFrame({'r':q,'Gr':I})"
   ]
  },
  {
   "cell_type": "code",
   "execution_count": null,
   "metadata": {
    "pycharm": {
     "name": "#%%\n"
    }
   },
   "outputs": [],
   "source": []
  },
  {
   "cell_type": "code",
   "execution_count": null,
   "metadata": {
    "pycharm": {
     "name": "#%%\n"
    }
   },
   "outputs": [],
   "source": [
    "from scipy.spatial import Delaunay\n",
    "tri = Delaunay(np.array([q,np.arange(0,len(q))]).transpose())"
   ]
  },
  {
   "cell_type": "code",
   "execution_count": 19,
   "metadata": {
    "pycharm": {
     "name": "#%%\n"
    }
   },
   "outputs": [],
   "source": [
    "import datetime"
   ]
  },
  {
   "cell_type": "code",
   "execution_count": 23,
   "metadata": {
    "pycharm": {
     "name": "#%%\n"
    }
   },
   "outputs": [
    {
     "data": {
      "text/plain": [
       "'210726'"
      ]
     },
     "execution_count": 23,
     "metadata": {},
     "output_type": "execute_result"
    }
   ],
   "source": []
  },
  {
   "cell_type": "code",
   "execution_count": null,
   "metadata": {
    "pycharm": {
     "name": "#%%\n"
    }
   },
   "outputs": [],
   "source": [
    "np.array([q,np.arange(0,len(q))]).transpose()"
   ]
  },
  {
   "cell_type": "code",
   "execution_count": null,
   "metadata": {
    "pycharm": {
     "name": "#%%\n"
    }
   },
   "outputs": [],
   "source": []
  }
 ],
 "metadata": {
  "kernelspec": {
   "display_name": "Python 3",
   "language": "python",
   "name": "python3"
  },
  "language_info": {
   "codemirror_mode": {
    "name": "ipython",
    "version": 3
   },
   "file_extension": ".py",
   "mimetype": "text/x-python",
   "name": "python",
   "nbconvert_exporter": "python",
   "pygments_lexer": "ipython3",
   "version": "3.7.0"
  }
 },
 "nbformat": 4,
 "nbformat_minor": 1
}
