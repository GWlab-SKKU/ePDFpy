{
 "cells": [
  {
   "cell_type": "code",
   "execution_count": 1,
   "id": "68a16e60",
   "metadata": {},
   "outputs": [],
   "source": [
    "import mrcfile\n",
    "import file\n",
    "from pathlib import Path\n",
    "import glob\n",
    "import numpy as np\n",
    "import image_process\n",
    "import matplotlib.pyplot as plt\n",
    "import cv2\n",
    "from datacube import DataCube\n",
    "import plotly.offline as pyo\n",
    "import plotly.graph_objects as go\n",
    "from plotly.subplots import make_subplots\n",
    "import numpy as np"
   ]
  },
  {
   "cell_type": "code",
   "execution_count": null,
   "id": "c6994ed3",
   "metadata": {},
   "outputs": [],
   "source": [
    "elem1 = "
   ]
  },
  {
   "cell_type": "code",
   "execution_count": 2,
   "id": "2113c7aa",
   "metadata": {},
   "outputs": [],
   "source": [
    "paramL = np.loadtxt('./assets/Parameter_files/Kirkland_2010.txt')"
   ]
  },
  {
   "cell_type": "code",
   "execution_count": 5,
   "id": "7fb819c8",
   "metadata": {},
   "outputs": [
    {
     "data": {
      "text/plain": [
       "array([4.20298324e-03, 2.25350888e-01, 6.27762505e-02, 2.25366950e-01,\n",
       "       3.00907347e-02, 2.25331756e-01, 6.77756695e-02, 4.38854001e+00,\n",
       "       3.56609237e-03, 4.03884823e-01, 2.76135815e-02, 1.44490166e+00])"
      ]
     },
     "execution_count": 5,
     "metadata": {},
     "output_type": "execute_result"
    }
   ],
   "source": [
    "paramL[1,:]"
   ]
  },
  {
   "cell_type": "code",
   "execution_count": null,
   "id": "3fefb7cb",
   "metadata": {},
   "outputs": [],
   "source": []
  }
 ],
 "metadata": {
  "kernelspec": {
   "display_name": "Python 3",
   "language": "python",
   "name": "python3"
  },
  "language_info": {
   "codemirror_mode": {
    "name": "ipython",
    "version": 3
   },
   "file_extension": ".py",
   "mimetype": "text/x-python",
   "name": "python",
   "nbconvert_exporter": "python",
   "pygments_lexer": "ipython3",
   "version": "3.7.0"
  }
 },
 "nbformat": 4,
 "nbformat_minor": 5
}
