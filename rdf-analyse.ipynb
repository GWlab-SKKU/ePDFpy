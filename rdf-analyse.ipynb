{
 "cells": [
  {
   "cell_type": "code",
   "execution_count": 232,
   "id": "7e442015",
   "metadata": {},
   "outputs": [],
   "source": [
    "import mrcfile\n",
    "import file\n",
    "from pathlib import Path\n",
    "import glob\n",
    "import numpy as np\n",
    "import image_process\n",
    "import matplotlib.pyplot as plt\n",
    "import cv2\n",
    "from datacube import DataCube\n",
    "import plotly.offline as pyo\n",
    "import plotly.graph_objects as go\n",
    "from plotly.subplots import make_subplots\n",
    "import numpy as np"
   ]
  },
  {
   "cell_type": "code",
   "execution_count": 233,
   "id": "5b75d121",
   "metadata": {},
   "outputs": [],
   "source": [
    "elem1, elem2, elem3, elem4, elem5 = [14,8,0,0,0]\n",
    "elems = np.array([elem1, elem2, elem3, elem4, elem5])\n",
    "e1, e2, e3, e4, e5 = [1,2,0,0,0]\n",
    "es = np.array([e1,e2,e3,e4,e5])\n",
    "e_tot = np.sum(np.array(es))\n",
    "e_ratio = es/e_tot"
   ]
  },
  {
   "cell_type": "code",
   "execution_count": 234,
   "id": "9699349b",
   "metadata": {},
   "outputs": [],
   "source": [
    "paramK = np.loadtxt(\"./assets/Parameter_files/Kirkland_2010.txt\")\n",
    "azavg = np.loadtxt(\"./assets/Parameter_files/Amorphous_SiO2_azav_0.00167.txt\")"
   ]
  },
  {
   "cell_type": "code",
   "execution_count": 235,
   "id": "ff4d0bfb",
   "metadata": {},
   "outputs": [
    {
     "data": {
      "text/plain": [
       "array([1.06543892e+00, 1.04118455e+00, 1.20143691e-01, 6.87113368e+01,\n",
       "       1.80915263e-01, 8.87533926e-02, 1.12065620e+00, 3.70062619e+00,\n",
       "       3.05452816e-02, 2.14097897e-01, 1.59963502e+00, 9.99096638e+00])"
      ]
     },
     "execution_count": 235,
     "metadata": {},
     "output_type": "execute_result"
    }
   ],
   "source": [
    "element_nums = [14,8,1,1,1] # si(14) , o(8), else is 1\n",
    "paramK_elems = paramK[element_nums,:]\n",
    "paramK_elems[0]"
   ]
  },
  {
   "cell_type": "code",
   "execution_count": 236,
   "id": "8b7d2c79",
   "metadata": {},
   "outputs": [],
   "source": [
    "ds = 0.00167 # ds = Calibration factor\n",
    "start_num = 133\n",
    "end_num = 2500\n",
    "x = np.arange(start_num,end_num+1) # selected x ranges, end point = end point(eRDF) + 1\n",
    "Iq = azavg[start_num-1:end_num]\n",
    "q = x*ds*2*np.pi\n",
    "s = q/2/np.pi\n",
    "s2 = s**2\n",
    "\n",
    "L = np.uint16(len(q))"
   ]
  },
  {
   "cell_type": "code",
   "execution_count": 237,
   "id": "f8f7f862",
   "metadata": {},
   "outputs": [],
   "source": [
    "def KirklandFactors(s2, paramK_element):\n",
    "    a1,b1,a2,b2,a3,b3,c1,d1,c2,d2,c3,d3 = paramK_element\n",
    "    f = (a1/(s2+b1))+(a2/(s2+b2))+(a3/(s2+b3))+(np.exp(-s2*d1)*c1)+(np.exp(-s2*d2)*c2)+(np.exp(-s2*d3)*c3)\n",
    "    return np.array(f)\n",
    "f = np.array([KirklandFactors(s2, paramK_elem) for paramK_elem in paramK_elems])"
   ]
  },
  {
   "cell_type": "code",
   "execution_count": 177,
   "id": "0688af27",
   "metadata": {},
   "outputs": [],
   "source": [
    "fq = np.sum( f * e_ratio[:,None], axis=0) # fq.shape = 2366,\n",
    "fq_sq = fq**2\n",
    "gq = np.sum( f**2 * e_ratio[:,None], axis=0)"
   ]
  },
  {
   "cell_type": "code",
   "execution_count": 184,
   "id": "22a105fe",
   "metadata": {},
   "outputs": [],
   "source": [
    "# Auto Fit atomic scattering curve = N*gq+C\n",
    "fullQRange = True\n",
    "if fullQRange:\n",
    "    AFrange=0\n",
    "else:\n",
    "    AFrangenge = 2/3*L\n",
    "wi = np.ones((L,1))\n",
    "wi[0:AFrange] = 0\n",
    "qmax,qpos = q.max(),q.argmax() # qmax = q_fix\n",
    "fqfit = gq[qpos]\n",
    "iqfit = Iq[qpos]"
   ]
  },
  {
   "cell_type": "code",
   "execution_count": 197,
   "id": "9039010e",
   "metadata": {},
   "outputs": [],
   "source": [
    "a1 = np.sum(wi*gq*Iq)\n",
    "a2 = np.sum(wi*Iq*fqfit)\n",
    "a3 = np.sum(wi*gq*iqfit)\n",
    "a4 = np.sum(wi)*fqfit*iqfit\n",
    "a5 = np.sum(wi*gq**2)\n",
    "a6 = 2*np.sum(wi*gq*fqfit)\n",
    "a7 = np.sum(wi)*fqfit*fqfit\n",
    "\n",
    "N = (a1-a2-a3+a4)/(a5-a6+a7)\n",
    "C = iqfit-N*fqfit\n",
    "\n",
    "Autofit = N*gq+C\n",
    "\n",
    "SS = np.sum((I-Autofit)**2);"
   ]
  },
  {
   "cell_type": "code",
   "execution_count": 193,
   "id": "42c5980b",
   "metadata": {},
   "outputs": [
    {
     "data": {
      "text/plain": [
       "array([6.99859584e+04, 6.94983290e+04, 6.90124904e+04, ...,\n",
       "       2.88669122e+01, 2.88307210e+01, 2.87945990e+01])"
      ]
     },
     "execution_count": 193,
     "metadata": {},
     "output_type": "execute_result"
    }
   ],
   "source": [
    "Autofit"
   ]
  },
  {
   "cell_type": "code",
   "execution_count": 249,
   "id": "e2258654",
   "metadata": {
    "scrolled": true
   },
   "outputs": [
    {
     "data": {
      "text/plain": [
       "<matplotlib.legend.Legend at 0x7f1327707630>"
      ]
     },
     "execution_count": 249,
     "metadata": {},
     "output_type": "execute_result"
    },
    {
     "data": {
      "image/png": "[encoded data removed]",
      "text/plain": [
       "<Figure size 432x288 with 1 Axes>"
      ]
     },
     "metadata": {
      "needs_background": "light"
     },
     "output_type": "display_data"
    }
   ],
   "source": [
    "import matplotlib.pyplot as plt\n",
    "plt.plot(q,I)\n",
    "plt.plot(q,Autofit)\n",
    "plt.legend([\"I(q)\",\"Autofit(q)\"])"
   ]
  },
  {
   "cell_type": "code",
   "execution_count": 217,
   "id": "e63a5224",
   "metadata": {},
   "outputs": [],
   "source": [
    "damping = 0.3\n",
    "rmax = 10\n",
    "dr = 0.01\n",
    "r = np.arange(0.01,rmax+dr,dr) # rmax+dr to fit the eRDF"
   ]
  },
  {
   "cell_type": "code",
   "execution_count": 270,
   "id": "58bcfab0",
   "metadata": {
    "scrolled": true
   },
   "outputs": [
    {
     "data": {
      "text/plain": [
       "[<matplotlib.lines.Line2D at 0x7f12dd3581d0>]"
      ]
     },
     "execution_count": 270,
     "metadata": {},
     "output_type": "execute_result"
    },
    {
     "data": {
      "image/png": "[encoded data removed]",
      "text/plain": [
       "<Figure size 432x288 with 1 Axes>"
      ]
     },
     "metadata": {
      "needs_background": "light"
     },
     "output_type": "display_data"
    }
   ],
   "source": [
    "phiq = ((Iq - Autofit)*s)/(N*fq_sq);\n",
    "phiq_damp = phiq*np.exp(-s2*damping)\n",
    "plt.plot(q,phiq)\n",
    "plt.plot(q,phiq_damp)"
   ]
  },
  {
   "cell_type": "code",
   "execution_count": 229,
   "id": "2532a38e",
   "metadata": {},
   "outputs": [
    {
     "data": {
      "text/plain": [
       "[<matplotlib.lines.Line2D at 0x7f12ddbd6668>]"
      ]
     },
     "execution_count": 229,
     "metadata": {},
     "output_type": "execute_result"
    },
    {
     "data": {
      "image/png": "[encoded data removed]",
      "text/plain": [
       "<Figure size 432x288 with 1 Axes>"
      ]
     },
     "metadata": {
      "needs_background": "light"
     },
     "output_type": "display_data"
    }
   ],
   "source": [
    "Gr = 8 * np.pi * phiq_damp @ np.sin(q[:,None]*r) * ds ;\n",
    "plt.plot(r,Gr)"
   ]
  }
 ],
 "metadata": {
  "kernelspec": {
   "display_name": "Python 3",
   "language": "python",
   "name": "python3"
  },
  "language_info": {
   "codemirror_mode": {
    "name": "ipython",
    "version": 3
   },
   "file_extension": ".py",
   "mimetype": "text/x-python",
   "name": "python",
   "nbconvert_exporter": "python",
   "pygments_lexer": "ipython3",
   "version": "3.7.0"
  }
 },
 "nbformat": 4,
 "nbformat_minor": 5
}
