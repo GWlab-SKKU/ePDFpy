{
 "cells": [
  {
   "cell_type": "code",
   "execution_count": 8,
   "id": "8ff14ee0",
   "metadata": {},
   "outputs": [],
   "source": [
    "import util\n",
    "import matplotlib.pyplot as plt\n",
    "import matplotlib\n",
    "from datacube import DataCube\n",
    "import rdf_calculator\n",
    "from scipy.ndimage.filters import gaussian_filter1d\n",
    "from scipy.signal import find_peaks\n",
    "import numpy as np\n",
    "import file"
   ]
  },
  {
   "cell_type": "code",
   "execution_count": 9,
   "id": "b28508c5",
   "metadata": {},
   "outputs": [
    {
     "name": "stderr",
     "output_type": "stream",
     "text": [
      "UsageError: Line magic function `%matplotliblib` not found.\n"
     ]
    }
   ],
   "source": [
    "matplotlib.rcParams['figure.figsize'] = [10,10]\n",
    "%matplotliblib qt "
   ]
  },
  {
   "cell_type": "code",
   "execution_count": 10,
   "id": "6c40d2ef",
   "metadata": {},
   "outputs": [],
   "source": [
    "def find_first_peak(azavg, derivative=0):\n",
    "    # flattening\n",
    "    first_peak_idx = 1\n",
    "    for i in range(len(azavg)):\n",
    "        if azavg[i] != 0:\n",
    "            first_peak_idx = i\n",
    "            break\n",
    "    min_limit = first_peak_idx+int(len(azavg)/100)\n",
    "    gaussian_sigma = 20\n",
    "    range_slice = slice(first_peak_idx, first_peak_idx + int(len(azavg) * 0.3))\n",
    "    filtered_part = gaussian_filter1d(azavg[first_peak_idx:first_peak_idx + int(len(azavg) * 0.3)], sigma=gaussian_sigma)\n",
    "    azavg2 = azavg.copy()\n",
    "    azavg2[range_slice] = filtered_part\n",
    "    \n",
    "    # first order\n",
    "    x = azavg2[0:int(len(azavg) * 0.3)]\n",
    "    low_peaks, _ = find_peaks(-x, distance=20)\n",
    "\n",
    "    if len(low_peaks) > 0 and (derivative is not 2):\n",
    "        plt.plot(azavg2[:300], label=\"smoothed\") # plot smooth graph\n",
    "        plt.legend()\n",
    "        return low_peaks[0]\n",
    "    if derivative == 1:\n",
    "        return None\n",
    "\n",
    "    # second order\n",
    "    else:\n",
    "        x = np.gradient(azavg2, 0.1)\n",
    "        # peaks, _ = find_peaks(x, distance=20)\n",
    "        low_peaks, _ = find_peaks(-x, distance=20)\n",
    "\n",
    "        # peaks = peaks[azavg2[peaks] != 0]\n",
    "        low_peaks = low_peaks[azavg2[low_peaks] != 0]\n",
    "\n",
    "        \n",
    "        for lp in low_peaks:\n",
    "            if lp>min_limit:\n",
    "                plt.plot(azavg2[:300], label=\"smoothed\") # plot smooth graph\n",
    "                plt.legend()\n",
    "                return lp\n",
    "        return None"
   ]
  },
  {
   "cell_type": "code",
   "execution_count": 11,
   "id": "b5793370",
   "metadata": {
    "scrolled": false
   },
   "outputs": [
    {
     "name": "stdout",
     "output_type": "stream",
     "text": [
      "210311/sample46_TiGe27_bot_AD/Camera 230 mm Ceta 20210311 1545_50s_20f_area09.mrc\n",
      "index_num = 0\n",
      "There is no such file: /mnt/experiment/TEM diffraction/210311/sample46_TiGe27_bot_AD/Analysis pdf_tools/Camera 230 mm Ceta 20210311 1545_50s_20f_area09 azav center100to110_1.txt\n"
     ]
    },
    {
     "ename": "TypeError",
     "evalue": "'NoneType' object is not subscriptable",
     "output_type": "error",
     "traceback": [
      "\u001b[0;31m---------------------------------------------------------------------------\u001b[0m",
      "\u001b[0;31mTypeError\u001b[0m                                 Traceback (most recent call last)",
      "\u001b[0;32m<ipython-input-11-7e0ff9c69f3f>\u001b[0m in \u001b[0;36m<module>\u001b[0;34m\u001b[0m\n\u001b[1;32m      9\u001b[0m \u001b[0;31m#     plt.show()\u001b[0m\u001b[0;34m\u001b[0m\u001b[0;34m\u001b[0m\u001b[0m\n\u001b[1;32m     10\u001b[0m \u001b[0;34m\u001b[0m\u001b[0m\n\u001b[0;32m---> 11\u001b[0;31m     \u001b[0mplt\u001b[0m\u001b[0;34m.\u001b[0m\u001b[0mplot\u001b[0m\u001b[0;34m(\u001b[0m\u001b[0mdcs\u001b[0m\u001b[0;34m[\u001b[0m\u001b[0midx\u001b[0m\u001b[0;34m]\u001b[0m\u001b[0;34m.\u001b[0m\u001b[0mazavg\u001b[0m\u001b[0;34m[\u001b[0m\u001b[0;36m0\u001b[0m\u001b[0;34m:\u001b[0m\u001b[0;36m300\u001b[0m\u001b[0;34m]\u001b[0m\u001b[0;34m,\u001b[0m \u001b[0mlabel\u001b[0m\u001b[0;34m=\u001b[0m\u001b[0;34m\"original\"\u001b[0m\u001b[0;34m)\u001b[0m\u001b[0;34m\u001b[0m\u001b[0m\n\u001b[0m\u001b[1;32m     12\u001b[0m     \u001b[0mplt\u001b[0m\u001b[0;34m.\u001b[0m\u001b[0mlegend\u001b[0m\u001b[0;34m(\u001b[0m\u001b[0;34m)\u001b[0m\u001b[0;34m\u001b[0m\u001b[0m\n\u001b[1;32m     13\u001b[0m \u001b[0;34m\u001b[0m\u001b[0m\n",
      "\u001b[0;31mTypeError\u001b[0m: 'NoneType' object is not subscriptable"
     ]
    }
   ],
   "source": [
    "dcs = [DataCube(fp) for fp in file.get_file_list_from_path(\"/mnt/experiment/TEM diffraction/210311\",\".mrc\")]\n",
    "indices = range(len(dcs))\n",
    "for idx in indices:\n",
    "    print(dcs[idx].file_path[32:])\n",
    "    print(\"index_num =\",idx)\n",
    "    util.load_previous_tiff(dcs[idx])\n",
    "    util.load_previous_dc_azavg(dcs[idx])\n",
    "#     plt.imshow(dcs[idx].display_img)\n",
    "#     plt.show()\n",
    "    \n",
    "    plt.plot(dcs[idx].azavg[0:300], label=\"original\")\n",
    "    plt.legend()\n",
    "    \n",
    "    first_derv_peak = find_first_peak(dcs[idx].azavg,1)\n",
    "    second_derv_peak = find_first_peak(dcs[idx].azavg,2)\n",
    "    if first_derv_peak is not None:\n",
    "        plt.scatter(first_derv_peak,dcs[idx].azavg[first_derv_peak],color='r')\n",
    "    if second_derv_peak is not None:\n",
    "        plt.scatter(second_derv_peak,dcs[idx].azavg[second_derv_peak],color='b')\n",
    "    plt.show()"
   ]
  },
  {
   "cell_type": "code",
   "execution_count": 5,
   "id": "bf4022e0",
   "metadata": {
    "scrolled": false
   },
   "outputs": [
    {
     "name": "stdout",
     "output_type": "stream",
     "text": [
      "210506/Au/Camera 230 mm Ceta 20210506 1309.mrc\n",
      "index_num = 0\n",
      "There is no such file: /mnt/experiment/TEM diffraction/210506/Au/Analysis pdf_tools/Camera 230 mm Ceta 20210506 1309 azav center100to110_1.txt\n"
     ]
    },
    {
     "ename": "TypeError",
     "evalue": "'NoneType' object is not subscriptable",
     "output_type": "error",
     "traceback": [
      "\u001b[0;31m---------------------------------------------------------------------------\u001b[0m",
      "\u001b[0;31mTypeError\u001b[0m                                 Traceback (most recent call last)",
      "\u001b[0;32m<ipython-input-5-5b84a6b07a9e>\u001b[0m in \u001b[0;36m<module>\u001b[0;34m\u001b[0m\n\u001b[1;32m      9\u001b[0m \u001b[0;31m#     plt.show()\u001b[0m\u001b[0;34m\u001b[0m\u001b[0;34m\u001b[0m\u001b[0m\n\u001b[1;32m     10\u001b[0m \u001b[0;34m\u001b[0m\u001b[0m\n\u001b[0;32m---> 11\u001b[0;31m     \u001b[0mplt\u001b[0m\u001b[0;34m.\u001b[0m\u001b[0mplot\u001b[0m\u001b[0;34m(\u001b[0m\u001b[0mdcs\u001b[0m\u001b[0;34m[\u001b[0m\u001b[0midx\u001b[0m\u001b[0;34m]\u001b[0m\u001b[0;34m.\u001b[0m\u001b[0mazavg\u001b[0m\u001b[0;34m[\u001b[0m\u001b[0;36m0\u001b[0m\u001b[0;34m:\u001b[0m\u001b[0;36m300\u001b[0m\u001b[0;34m]\u001b[0m\u001b[0;34m,\u001b[0m \u001b[0mlabel\u001b[0m\u001b[0;34m=\u001b[0m\u001b[0;34m\"original\"\u001b[0m\u001b[0;34m)\u001b[0m\u001b[0;34m\u001b[0m\u001b[0m\n\u001b[0m\u001b[1;32m     12\u001b[0m     \u001b[0mplt\u001b[0m\u001b[0;34m.\u001b[0m\u001b[0mlegend\u001b[0m\u001b[0;34m(\u001b[0m\u001b[0;34m)\u001b[0m\u001b[0;34m\u001b[0m\u001b[0m\n\u001b[1;32m     13\u001b[0m \u001b[0;34m\u001b[0m\u001b[0m\n",
      "\u001b[0;31mTypeError\u001b[0m: 'NoneType' object is not subscriptable"
     ]
    }
   ],
   "source": [
    "dcs = [DataCube(fp) for fp in file.get_file_list_from_path(\"/mnt/experiment/TEM diffraction/210506\",\".mrc\")]\n",
    "indices = range(len(dcs))\n",
    "for idx in indices:\n",
    "    print(dcs[idx].file_path[32:])\n",
    "    print(\"index_num =\",idx)\n",
    "    util.load_previous_tiff(dcs[idx])\n",
    "    util.load_previous_dc_azavg(dcs[idx])\n",
    "#     plt.imshow(dcs[idx].display_img)\n",
    "#     plt.show()\n",
    "    \n",
    "    plt.plot(dcs[idx].azavg[0:300], label=\"original\")\n",
    "    plt.legend()\n",
    "    \n",
    "    first_derv_peak = find_first_peak(dcs[idx].azavg,1)\n",
    "    second_derv_peak = find_first_peak(dcs[idx].azavg,2)\n",
    "    if first_derv_peak is not None:\n",
    "        plt.scatter(first_derv_peak,dcs[idx].azavg[first_derv_peak],color='r')\n",
    "    if second_derv_peak is not None:\n",
    "        plt.scatter(second_derv_peak,dcs[idx].azavg[second_derv_peak],color='b')\n",
    "    plt.show()"
   ]
  },
  {
   "cell_type": "code",
   "execution_count": null,
   "id": "f5d7f86f",
   "metadata": {},
   "outputs": [],
   "source": []
  },
  {
   "cell_type": "code",
   "execution_count": null,
   "id": "a8c6eaee",
   "metadata": {},
   "outputs": [],
   "source": []
  },
  {
   "cell_type": "code",
   "execution_count": null,
   "id": "cdbf197e",
   "metadata": {},
   "outputs": [],
   "source": []
  },
  {
   "cell_type": "code",
   "execution_count": null,
   "id": "76944001",
   "metadata": {},
   "outputs": [],
   "source": []
  }
 ],
 "metadata": {
  "kernelspec": {
   "display_name": "Python 3",
   "language": "python",
   "name": "python3"
  },
  "language_info": {
   "codemirror_mode": {
    "name": "ipython",
    "version": 3
   },
   "file_extension": ".py",
   "mimetype": "text/x-python",
   "name": "python",
   "nbconvert_exporter": "python",
   "pygments_lexer": "ipython3",
   "version": "3.7.0"
  }
 },
 "nbformat": 4,
 "nbformat_minor": 5
}
