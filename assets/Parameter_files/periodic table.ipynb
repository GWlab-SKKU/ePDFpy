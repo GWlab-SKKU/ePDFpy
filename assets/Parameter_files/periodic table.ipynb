{
 "cells": [
  {
   "cell_type": "code",
   "execution_count": 15,
   "metadata": {
    "collapsed": true
   },
   "outputs": [
    {
     "data": {
      "text/plain": "     AtomicNumber      Element Symbol  AtomicMass  NumberofNeutrons  \\\n0               1     Hydrogen      H       1.007                 0   \n1               2       Helium     He       4.002                 2   \n2               3      Lithium     Li       6.941                 4   \n3               4    Beryllium     Be       9.012                 5   \n4               5        Boron      B      10.811                 6   \n..            ...          ...    ...         ...               ...   \n113           114    Flerovium     Fl     289.000               175   \n114           115    Moscovium     Mc     288.000               173   \n115           116  Livermorium     Lv     292.000               176   \n116           117   Tennessine     Ts     295.000               178   \n117           118    Oganesson     Og     294.000               176   \n\n     NumberofProtons  NumberofElectrons  Period  Group       Phase  ...  \\\n0                  1                  1       1    1.0         gas  ...   \n1                  2                  2       1   18.0         gas  ...   \n2                  3                  3       2    1.0       solid  ...   \n3                  4                  4       2    2.0       solid  ...   \n4                  5                  5       2   13.0       solid  ...   \n..               ...                ...     ...    ...         ...  ...   \n113              114                114       7   14.0  artificial  ...   \n114              115                115       7   15.0  artificial  ...   \n115              116                116       7   16.0  artificial  ...   \n116              117                117       7   17.0  artificial  ...   \n117              118                118       7   18.0  artificial  ...   \n\n    FirstIonization   Density MeltingPoint BoilingPoint NumberOfIsotopes  \\\n0           13.5984  0.000090       14.175        20.28              3.0   \n1           24.5874  0.000179          NaN         4.22              5.0   \n2            5.3917  0.534000      453.850      1615.00              5.0   \n3            9.3227  1.850000     1560.150      2742.00              6.0   \n4            8.2980  2.340000     2573.150      4200.00              6.0   \n..              ...       ...          ...          ...              ...   \n113             NaN       NaN          NaN          NaN              NaN   \n114             NaN       NaN          NaN          NaN              NaN   \n115             NaN       NaN          NaN          NaN              NaN   \n116             NaN       NaN          NaN          NaN              NaN   \n117             NaN       NaN          NaN          NaN              NaN   \n\n     Discoverer    Year  SpecificHeat  NumberofShells  NumberofValence  \n0     Cavendish  1766.0        14.304               1              1.0  \n1       Janssen  1868.0         5.193               1              NaN  \n2     Arfvedson  1817.0         3.582               2              1.0  \n3    Vaulquelin  1798.0         1.825               2              2.0  \n4    Gay-Lussac  1808.0         1.026               2              3.0  \n..          ...     ...           ...             ...              ...  \n113         NaN  1999.0           NaN               7              4.0  \n114         NaN  2010.0           NaN               7              5.0  \n115         NaN  2000.0           NaN               7              6.0  \n116         NaN  2010.0           NaN               7              7.0  \n117         NaN  2006.0           NaN               7              8.0  \n\n[118 rows x 28 columns]",
      "text/html": "<div>\n<style scoped>\n    .dataframe tbody tr th:only-of-type {\n        vertical-align: middle;\n    }\n\n    .dataframe tbody tr th {\n        vertical-align: top;\n    }\n\n    .dataframe thead th {\n        text-align: right;\n    }\n</style>\n<table border=\"1\" class=\"dataframe\">\n  <thead>\n    <tr style=\"text-align: right;\">\n      <th></th>\n      <th>AtomicNumber</th>\n      <th>Element</th>\n      <th>Symbol</th>\n      <th>AtomicMass</th>\n      <th>NumberofNeutrons</th>\n      <th>NumberofProtons</th>\n      <th>NumberofElectrons</th>\n      <th>Period</th>\n      <th>Group</th>\n      <th>Phase</th>\n      <th>...</th>\n      <th>FirstIonization</th>\n      <th>Density</th>\n      <th>MeltingPoint</th>\n      <th>BoilingPoint</th>\n      <th>NumberOfIsotopes</th>\n      <th>Discoverer</th>\n      <th>Year</th>\n      <th>SpecificHeat</th>\n      <th>NumberofShells</th>\n      <th>NumberofValence</th>\n    </tr>\n  </thead>\n  <tbody>\n    <tr>\n      <th>0</th>\n      <td>1</td>\n      <td>Hydrogen</td>\n      <td>H</td>\n      <td>1.007</td>\n      <td>0</td>\n      <td>1</td>\n      <td>1</td>\n      <td>1</td>\n      <td>1.0</td>\n      <td>gas</td>\n      <td>...</td>\n      <td>13.5984</td>\n      <td>0.000090</td>\n      <td>14.175</td>\n      <td>20.28</td>\n      <td>3.0</td>\n      <td>Cavendish</td>\n      <td>1766.0</td>\n      <td>14.304</td>\n      <td>1</td>\n      <td>1.0</td>\n    </tr>\n    <tr>\n      <th>1</th>\n      <td>2</td>\n      <td>Helium</td>\n      <td>He</td>\n      <td>4.002</td>\n      <td>2</td>\n      <td>2</td>\n      <td>2</td>\n      <td>1</td>\n      <td>18.0</td>\n      <td>gas</td>\n      <td>...</td>\n      <td>24.5874</td>\n      <td>0.000179</td>\n      <td>NaN</td>\n      <td>4.22</td>\n      <td>5.0</td>\n      <td>Janssen</td>\n      <td>1868.0</td>\n      <td>5.193</td>\n      <td>1</td>\n      <td>NaN</td>\n    </tr>\n    <tr>\n      <th>2</th>\n      <td>3</td>\n      <td>Lithium</td>\n      <td>Li</td>\n      <td>6.941</td>\n      <td>4</td>\n      <td>3</td>\n      <td>3</td>\n      <td>2</td>\n      <td>1.0</td>\n      <td>solid</td>\n      <td>...</td>\n      <td>5.3917</td>\n      <td>0.534000</td>\n      <td>453.850</td>\n      <td>1615.00</td>\n      <td>5.0</td>\n      <td>Arfvedson</td>\n      <td>1817.0</td>\n      <td>3.582</td>\n      <td>2</td>\n      <td>1.0</td>\n    </tr>\n    <tr>\n      <th>3</th>\n      <td>4</td>\n      <td>Beryllium</td>\n      <td>Be</td>\n      <td>9.012</td>\n      <td>5</td>\n      <td>4</td>\n      <td>4</td>\n      <td>2</td>\n      <td>2.0</td>\n      <td>solid</td>\n      <td>...</td>\n      <td>9.3227</td>\n      <td>1.850000</td>\n      <td>1560.150</td>\n      <td>2742.00</td>\n      <td>6.0</td>\n      <td>Vaulquelin</td>\n      <td>1798.0</td>\n      <td>1.825</td>\n      <td>2</td>\n      <td>2.0</td>\n    </tr>\n    <tr>\n      <th>4</th>\n      <td>5</td>\n      <td>Boron</td>\n      <td>B</td>\n      <td>10.811</td>\n      <td>6</td>\n      <td>5</td>\n      <td>5</td>\n      <td>2</td>\n      <td>13.0</td>\n      <td>solid</td>\n      <td>...</td>\n      <td>8.2980</td>\n      <td>2.340000</td>\n      <td>2573.150</td>\n      <td>4200.00</td>\n      <td>6.0</td>\n      <td>Gay-Lussac</td>\n      <td>1808.0</td>\n      <td>1.026</td>\n      <td>2</td>\n      <td>3.0</td>\n    </tr>\n    <tr>\n      <th>...</th>\n      <td>...</td>\n      <td>...</td>\n      <td>...</td>\n      <td>...</td>\n      <td>...</td>\n      <td>...</td>\n      <td>...</td>\n      <td>...</td>\n      <td>...</td>\n      <td>...</td>\n      <td>...</td>\n      <td>...</td>\n      <td>...</td>\n      <td>...</td>\n      <td>...</td>\n      <td>...</td>\n      <td>...</td>\n      <td>...</td>\n      <td>...</td>\n      <td>...</td>\n      <td>...</td>\n    </tr>\n    <tr>\n      <th>113</th>\n      <td>114</td>\n      <td>Flerovium</td>\n      <td>Fl</td>\n      <td>289.000</td>\n      <td>175</td>\n      <td>114</td>\n      <td>114</td>\n      <td>7</td>\n      <td>14.0</td>\n      <td>artificial</td>\n      <td>...</td>\n      <td>NaN</td>\n      <td>NaN</td>\n      <td>NaN</td>\n      <td>NaN</td>\n      <td>NaN</td>\n      <td>NaN</td>\n      <td>1999.0</td>\n      <td>NaN</td>\n      <td>7</td>\n      <td>4.0</td>\n    </tr>\n    <tr>\n      <th>114</th>\n      <td>115</td>\n      <td>Moscovium</td>\n      <td>Mc</td>\n      <td>288.000</td>\n      <td>173</td>\n      <td>115</td>\n      <td>115</td>\n      <td>7</td>\n      <td>15.0</td>\n      <td>artificial</td>\n      <td>...</td>\n      <td>NaN</td>\n      <td>NaN</td>\n      <td>NaN</td>\n      <td>NaN</td>\n      <td>NaN</td>\n      <td>NaN</td>\n      <td>2010.0</td>\n      <td>NaN</td>\n      <td>7</td>\n      <td>5.0</td>\n    </tr>\n    <tr>\n      <th>115</th>\n      <td>116</td>\n      <td>Livermorium</td>\n      <td>Lv</td>\n      <td>292.000</td>\n      <td>176</td>\n      <td>116</td>\n      <td>116</td>\n      <td>7</td>\n      <td>16.0</td>\n      <td>artificial</td>\n      <td>...</td>\n      <td>NaN</td>\n      <td>NaN</td>\n      <td>NaN</td>\n      <td>NaN</td>\n      <td>NaN</td>\n      <td>NaN</td>\n      <td>2000.0</td>\n      <td>NaN</td>\n      <td>7</td>\n      <td>6.0</td>\n    </tr>\n    <tr>\n      <th>116</th>\n      <td>117</td>\n      <td>Tennessine</td>\n      <td>Ts</td>\n      <td>295.000</td>\n      <td>178</td>\n      <td>117</td>\n      <td>117</td>\n      <td>7</td>\n      <td>17.0</td>\n      <td>artificial</td>\n      <td>...</td>\n      <td>NaN</td>\n      <td>NaN</td>\n      <td>NaN</td>\n      <td>NaN</td>\n      <td>NaN</td>\n      <td>NaN</td>\n      <td>2010.0</td>\n      <td>NaN</td>\n      <td>7</td>\n      <td>7.0</td>\n    </tr>\n    <tr>\n      <th>117</th>\n      <td>118</td>\n      <td>Oganesson</td>\n      <td>Og</td>\n      <td>294.000</td>\n      <td>176</td>\n      <td>118</td>\n      <td>118</td>\n      <td>7</td>\n      <td>18.0</td>\n      <td>artificial</td>\n      <td>...</td>\n      <td>NaN</td>\n      <td>NaN</td>\n      <td>NaN</td>\n      <td>NaN</td>\n      <td>NaN</td>\n      <td>NaN</td>\n      <td>2006.0</td>\n      <td>NaN</td>\n      <td>7</td>\n      <td>8.0</td>\n    </tr>\n  </tbody>\n</table>\n<p>118 rows × 28 columns</p>\n</div>"
     },
     "execution_count": 15,
     "metadata": {},
     "output_type": "execute_result"
    }
   ],
   "source": [
    "import numpy as np\n",
    "import pandas as pd\n",
    "df = pd.read_csv(\"Periodic Table of Elements.csv\")\n",
    "df"
   ]
  },
  {
   "cell_type": "code",
   "execution_count": 16,
   "outputs": [],
   "source": [
    "df = df['AtomicNumber'].astype(\"str\")+\". \"+df[\"Symbol\"]\n",
    "# df[['AtomicNumber',\"Symbol\"]].to_csv(\"atomicNumber-symbol.csv\",index=False)\n",
    "df.to_csv(\"atomicNumber-symbol.csv\",index=False)"
   ],
   "metadata": {
    "collapsed": false,
    "pycharm": {
     "name": "#%%\n"
    }
   }
  },
  {
   "cell_type": "code",
   "execution_count": 14,
   "outputs": [
    {
     "data": {
      "text/plain": "0         1. H\n1        2. He\n2        3. Li\n3        4. Be\n4         5. B\n        ...   \n113    114. Fl\n114    115. Mc\n115    116. Lv\n116    117. Ts\n117    118. Og\nLength: 118, dtype: object"
     },
     "execution_count": 14,
     "metadata": {},
     "output_type": "execute_result"
    }
   ],
   "source": [],
   "metadata": {
    "collapsed": false,
    "pycharm": {
     "name": "#%%\n"
    }
   }
  },
  {
   "cell_type": "code",
   "execution_count": null,
   "outputs": [],
   "source": [],
   "metadata": {
    "collapsed": false,
    "pycharm": {
     "name": "#%%\n"
    }
   }
  }
 ],
 "metadata": {
  "kernelspec": {
   "display_name": "Python 3",
   "language": "python",
   "name": "python3"
  },
  "language_info": {
   "codemirror_mode": {
    "name": "ipython",
    "version": 2
   },
   "file_extension": ".py",
   "mimetype": "text/x-python",
   "name": "python",
   "nbconvert_exporter": "python",
   "pygments_lexer": "ipython2",
   "version": "2.7.6"
  }
 },
 "nbformat": 4,
 "nbformat_minor": 0
}